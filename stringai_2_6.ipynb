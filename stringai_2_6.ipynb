{
 "cells": [
  {
   "cell_type": "code",
   "execution_count": 17,
   "metadata": {},
   "outputs": [
    {
     "name": "stdout",
     "output_type": "stream",
     "text": [
      "Sveiki\n",
      "Šiandien pasistenksiu sudaryti tavo pietu racijoną:\n",
      "Pasirinkite kuris maisto tipas jums prie širdies:\n",
      "1 - Mieliau valgau mėsytę\n",
      "2 - Mieliau valgau žolytę\n",
      "DEIVIDAS voooou ar tau negaila tu skanių gyvunėlių? \n",
      "DEIVIDAS viskas gerai šiandien valgysi žuvis garnyrui pasimėgauk kinietiškos salotos ir užšigersi  cola be leduku\n",
      "SKANAUS!!!\n",
      "Ši programele buvo kurta mokimosi tikslais, ir nenorint ižeisti Jūsų  DEIVIDAS linkiu tau gražios dienos\n"
     ]
    }
   ],
   "source": [
    "import random\n",
    "mesa = [\"jautiena\", \"vištiena\", \"kiauliena\", \"žuvis\"]\n",
    "zolyte = [\"morkų salotos\", \"kinietiškos salotos\", \"agurkas su grietine\", \"salotos lapas\"]\n",
    "gerimai = [\"baltas vynas\", \"brendžiukas\", \"tekila\", \"cola be leduku\"]\n",
    "print(\"Sveiki\")\n",
    "print(\"Šiandien pasistenksiu sudaryti tavo pietu racijoną:\")\n",
    "name = str(input(\"Pirmiausia susipažinkime, tai kuo jus vardu: \"))\n",
    "name_big = name.upper()\n",
    "print(\"Pasirinkite kuris maisto tipas jums prie širdies:\")\n",
    "print(\"1 - Mieliau valgau mėsytę\")\n",
    "print(\"2 - Mieliau valgau žolytę\")\n",
    "\n",
    "pasirinkimas = int(input(\"Įveskite savo pasirinkimą: 1 ar 2\"))\n",
    "if pasirinkimas == 1:\n",
    "    print(name_big, \"voooou ar tau negaila tu skanių gyvunėlių? \")\n",
    "    print(name_big, \"viskas gerai šiandien valgysi - \", (random.choice(mesa)), \"garnyrui pasimėgauk - \"\\\n",
    "          , (random.choice(zolyte)), \"ir užšigersi - \", (random.choice(gerimai)))\n",
    "    print(\"SKANAUS!!!\")\n",
    "elif pasirinkimas == 2:\n",
    "    print(name_big, \" na nieko, visi mes gyvenime padarome klaidų \")\n",
    "    print(name_big, \"kad ir kaip ten yra, bet šiandien megausiesi - \", (random.choice(zolyte))\\\n",
    "          , \"na ir žinoma galesi užsigerti - \", (random.choice(gerimai)))\n",
    "    print(\"SKANAUS!!!\")\n",
    "else:\n",
    "    print(name_big, \"jau kažka ne taip paspaudei, buk geras bandyk iš naujo\")\n",
    "\n",
    "print(\"Ši programele buvo kurta mokimosi tikslais, ir nenorint ižeisti Jūsų \", name_big , \"linkiu tau gražios dienos\")\n",
    "          \n",
    "\n",
    "\n",
    "\n"
   ]
  }
 ],
 "metadata": {
  "kernelspec": {
   "display_name": "venv",
   "language": "python",
   "name": "python3"
  },
  "language_info": {
   "codemirror_mode": {
    "name": "ipython",
    "version": 3
   },
   "file_extension": ".py",
   "mimetype": "text/x-python",
   "name": "python",
   "nbconvert_exporter": "python",
   "pygments_lexer": "ipython3",
   "version": "3.11.3"
  },
  "orig_nbformat": 4
 },
 "nbformat": 4,
 "nbformat_minor": 2
}
