{
 "cells": [
  {
   "cell_type": "code",
   "execution_count": null,
   "metadata": {},
   "outputs": [],
   "source": [
    "maistas = [\"pica\", \"sushi\", \"saltibarsciai\", \"blyneliai\", \"kiausiniene\"]\n",
    "print(maistas)"
   ]
  },
  {
   "cell_type": "code",
   "execution_count": null,
   "metadata": {},
   "outputs": [],
   "source": [
    "print(maistas[0])\n",
    "print(maistas[2])\n",
    "print(maistas[4])\n"
   ]
  },
  {
   "cell_type": "code",
   "execution_count": null,
   "metadata": {},
   "outputs": [],
   "source": [
    "print(maistas[:3])\n",
    "print(maistas[-2:])\n",
    "print(maistas[1:4])\n",
    "print(maistas[::2])"
   ]
  },
  {
   "cell_type": "code",
   "execution_count": null,
   "metadata": {},
   "outputs": [],
   "source": [
    "maistas.append(\"kebabas\")\n",
    "print(maistas)\n",
    "maistas.insert(4,\"keksas\")\n",
    "print(maistas)\n",
    "maistas[1] = \"saldainis\"\n",
    "print(maistas)\n",
    "maistas.pop(0)\n",
    "print(maistas)\n",
    "del maistas[2]\n",
    "print(maistas)\n",
    "indexas = maistas.index(\"kebabas\")\n",
    "print(indexas)\n",
    "maistas.reverse()\n",
    "print(maistas)\n",
    "\n"
   ]
  },
  {
   "cell_type": "code",
   "execution_count": null,
   "metadata": {},
   "outputs": [],
   "source": [
    "print(len(maistas))"
   ]
  },
  {
   "cell_type": "code",
   "execution_count": null,
   "metadata": {},
   "outputs": [],
   "source": [
    "print(\"kebabas\" in maistas)\n",
    "print(\"duona\" in maistas)"
   ]
  },
  {
   "attachments": {},
   "cell_type": "markdown",
   "metadata": {},
   "source": [
    "#zodynas"
   ]
  },
  {
   "cell_type": "markdown",
   "metadata": {},
   "source": [
    "##zodynas uzduotis##\n"
   ]
  },
  {
   "cell_type": "code",
   "execution_count": null,
   "metadata": {},
   "outputs": [],
   "source": [
    "zodynas = {\n",
    "    \"Kysa\" : \"2 metai\",\n",
    "    \"Tobikas\" : \"5 metai\",\n",
    "    \"Tuzikas\" : \"3 metai\"\n",
    "}\n",
    "print(zodynas)"
   ]
  },
  {
   "cell_type": "code",
   "execution_count": null,
   "metadata": {},
   "outputs": [],
   "source": [
    "print(zodynas[\"Tobikas\"])"
   ]
  },
  {
   "cell_type": "code",
   "execution_count": null,
   "metadata": {},
   "outputs": [],
   "source": [
    "zodynas[\"Marge\"] = \"4 metai\"\n",
    "print(zodynas)"
   ]
  },
  {
   "cell_type": "code",
   "execution_count": null,
   "metadata": {},
   "outputs": [],
   "source": [
    "zodynas[\"Tuzikas\"] = \"8 metai\"\n",
    "print(zodynas)"
   ]
  },
  {
   "cell_type": "code",
   "execution_count": null,
   "metadata": {},
   "outputs": [],
   "source": [
    "del zodynas[\"Kysa\"]\n",
    "print(zodynas)"
   ]
  },
  {
   "cell_type": "code",
   "execution_count": null,
   "metadata": {},
   "outputs": [],
   "source": [
    "print(zodynas.keys())\n",
    "print(zodynas.values())\n",
    "print(zodynas.items())\n",
    "zodynas.get (\"Tuzikas\")\n"
   ]
  },
  {
   "attachments": {},
   "cell_type": "markdown",
   "metadata": {},
   "source": [
    "##ciklai##"
   ]
  },
  {
   "cell_type": "code",
   "execution_count": null,
   "metadata": {},
   "outputs": [],
   "source": []
  },
  {
   "attachments": {},
   "cell_type": "markdown",
   "metadata": {},
   "source": [
    " "
   ]
  }
 ],
 "metadata": {
  "kernelspec": {
   "display_name": "venv",
   "language": "python",
   "name": "python3"
  },
  "language_info": {
   "codemirror_mode": {
    "name": "ipython",
    "version": 3
   },
   "file_extension": ".py",
   "mimetype": "text/x-python",
   "name": "python",
   "nbconvert_exporter": "python",
   "pygments_lexer": "ipython3",
   "version": "3.11.3"
  },
  "orig_nbformat": 4
 },
 "nbformat": 4,
 "nbformat_minor": 2
}
