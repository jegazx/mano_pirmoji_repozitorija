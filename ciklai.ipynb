{
 "cells": [
  {
   "attachments": {},
   "cell_type": "markdown",
   "metadata": {},
   "source": [
    "##ciklai##"
   ]
  },
  {
   "cell_type": "code",
   "execution_count": 35,
   "metadata": {},
   "outputs": [
    {
     "name": "stdout",
     "output_type": "stream",
     "text": [
      "1\n",
      "2\n",
      "3\n",
      "4\n",
      "5\n",
      "6\n",
      "7\n",
      "8\n",
      "9\n",
      "0\n"
     ]
    }
   ],
   "source": [
    "skaiciai = [1, 2, 3, 4, 5, 6, 7, 8, 9, 0]\n",
    "\n",
    "for skaicius in skaiciai:\n",
    "    print(skaicius)\n"
   ]
  },
  {
   "cell_type": "code",
   "execution_count": 36,
   "metadata": {},
   "outputs": [
    {
     "name": "stdout",
     "output_type": "stream",
     "text": [
      "{'Kysa': '2 metai', 'Tobikas': '5 metai', 'Tuzikas': '3 metai'}\n"
     ]
    }
   ],
   "source": [
    "zodynas = {\n",
    "    \"Kysa\" : \"2 metai\",\n",
    "    \"Tobikas\" : \"5 metai\",\n",
    "    \"Tuzikas\" : \"3 metai\"\n",
    "}\n",
    "print(zodynas)"
   ]
  },
  {
   "cell_type": "code",
   "execution_count": 37,
   "metadata": {},
   "outputs": [
    {
     "name": "stdout",
     "output_type": "stream",
     "text": [
      "turiu 0, pridedu 1, gaunasi 1\n",
      "turiu 1, pridedu 2, gaunasi 3\n",
      "turiu 3, pridedu 3, gaunasi 6\n",
      "turiu 6, pridedu 4, gaunasi 10\n",
      "turiu 10, pridedu 5, gaunasi 15\n",
      "turiu 15, pridedu 6, gaunasi 21\n",
      "turiu 21, pridedu 7, gaunasi 28\n",
      "turiu 28, pridedu 8, gaunasi 36\n",
      "turiu 36, pridedu 9, gaunasi 45\n",
      "turiu 45, pridedu 0, gaunasi 45\n",
      "45\n"
     ]
    }
   ],
   "source": [
    "suma = 0\n",
    "for skaicius in skaiciai:\n",
    "    print(f\"turiu {suma}\", end=\", \")\n",
    "    suma += skaicius\n",
    "    print(f\"pridedu {skaicius}, gaunasi {suma}\")\n",
    "print(suma)"
   ]
  },
  {
   "cell_type": "code",
   "execution_count": 38,
   "metadata": {},
   "outputs": [
    {
     "name": "stdout",
     "output_type": "stream",
     "text": [
      "nekeliamieji metai\n"
     ]
    }
   ],
   "source": [
    "metai = int(input(\"iveskite metus: \"))\n",
    "if (metai % 400 == 0) or (metai % 100 != 0) and (metai % 4 == 0):\n",
    "    print(\"keliamieji metai\")\n",
    "else:\n",
    "    print(\"nekeliamieji metai\")"
   ]
  },
  {
   "cell_type": "code",
   "execution_count": 40,
   "metadata": {},
   "outputs": [
    {
     "name": "stdout",
     "output_type": "stream",
     "text": [
      "2000\n",
      "2004\n",
      "2008\n",
      "2012\n",
      "2016\n",
      "2020\n",
      "2024\n",
      "2028\n",
      "2032\n",
      "2036\n",
      "2040\n",
      "2044\n",
      "2048\n",
      "2052\n",
      "2056\n",
      "2060\n",
      "2064\n",
      "2068\n",
      "2072\n",
      "2076\n",
      "2080\n",
      "2084\n",
      "2088\n",
      "2092\n",
      "2096\n"
     ]
    }
   ],
   "source": [
    "for metai in range(2000, 2100):\n",
    "    if metai % 4 == 0:\n",
    "        print(metai)"
   ]
  },
  {
   "cell_type": "code",
   "execution_count": 41,
   "metadata": {},
   "outputs": [
    {
     "name": "stdout",
     "output_type": "stream",
     "text": [
      "2000\n",
      "2004\n",
      "2008\n",
      "2012\n",
      "2016\n",
      "2020\n",
      "2024\n",
      "2028\n",
      "2032\n",
      "2036\n",
      "2040\n",
      "2044\n",
      "2048\n",
      "2052\n",
      "2056\n",
      "2060\n",
      "2064\n",
      "2068\n",
      "2072\n",
      "2076\n",
      "2080\n",
      "2084\n",
      "2088\n",
      "2092\n",
      "2096\n"
     ]
    }
   ],
   "source": [
    "for metai in range(2000, 2100):\n",
    "    if metai % 400 == 0:\n",
    "        print(metai)\n",
    "    elif metai % 100 == 0:\n",
    "        continue\n",
    "    elif metai % 4 == 0:\n",
    "        print(metai)\n",
    "    else:\n",
    "        continue"
   ]
  },
  {
   "cell_type": "code",
   "execution_count": 6,
   "metadata": {},
   "outputs": [
    {
     "name": "stdout",
     "output_type": "stream",
     "text": [
      "9\n",
      "8\n",
      "7\n",
      "6\n",
      "5\n",
      "4\n",
      "3\n",
      "2\n",
      "1\n",
      "0\n"
     ]
    }
   ],
   "source": [
    "num = 10\n",
    "while num <= 11:\n",
    "    num = num - 1\n",
    "    if num == -1:\n",
    "        break\n",
    "    print(num)"
   ]
  }
 ],
 "metadata": {
  "kernelspec": {
   "display_name": "venv",
   "language": "python",
   "name": "python3"
  },
  "language_info": {
   "codemirror_mode": {
    "name": "ipython",
    "version": 3
   },
   "file_extension": ".py",
   "mimetype": "text/x-python",
   "name": "python",
   "nbconvert_exporter": "python",
   "pygments_lexer": "ipython3",
   "version": "3.11.3"
  },
  "orig_nbformat": 4
 },
 "nbformat": 4,
 "nbformat_minor": 2
}
