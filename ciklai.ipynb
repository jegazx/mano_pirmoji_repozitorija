{
 "cells": [
  {
   "attachments": {},
   "cell_type": "markdown",
   "metadata": {},
   "source": [
    "##ciklai##"
   ]
  },
  {
   "cell_type": "code",
   "execution_count": 47,
   "metadata": {},
   "outputs": [
    {
     "name": "stdout",
     "output_type": "stream",
     "text": [
      "1\n",
      "2\n",
      "3\n",
      "4\n",
      "5\n",
      "6\n",
      "7\n",
      "8\n",
      "9\n",
      "0\n"
     ]
    }
   ],
   "source": [
    "skaiciai = [1, 2, 3, 4, 5, 6, 7, 8, 9, 0]\n",
    "\n",
    "for skaicius in skaiciai:\n",
    "    print(skaicius)\n"
   ]
  },
  {
   "cell_type": "code",
   "execution_count": 48,
   "metadata": {},
   "outputs": [
    {
     "name": "stdout",
     "output_type": "stream",
     "text": [
      "{'Kysa': '2 metai', 'Tobikas': '5 metai', 'Tuzikas': '3 metai'}\n"
     ]
    }
   ],
   "source": [
    "zodynas = {\n",
    "    \"Kysa\" : \"2 metai\",\n",
    "    \"Tobikas\" : \"5 metai\",\n",
    "    \"Tuzikas\" : \"3 metai\"\n",
    "}\n",
    "print(zodynas)"
   ]
  },
  {
   "cell_type": "code",
   "execution_count": 49,
   "metadata": {},
   "outputs": [
    {
     "name": "stdout",
     "output_type": "stream",
     "text": [
      "turiu 0, pridedu 1, gaunasi 1\n",
      "turiu 1, pridedu 2, gaunasi 3\n",
      "turiu 3, pridedu 3, gaunasi 6\n",
      "turiu 6, pridedu 4, gaunasi 10\n",
      "turiu 10, pridedu 5, gaunasi 15\n",
      "turiu 15, pridedu 6, gaunasi 21\n",
      "turiu 21, pridedu 7, gaunasi 28\n",
      "turiu 28, pridedu 8, gaunasi 36\n",
      "turiu 36, pridedu 9, gaunasi 45\n",
      "turiu 45, pridedu 0, gaunasi 45\n",
      "45\n"
     ]
    }
   ],
   "source": [
    "suma = 0\n",
    "for skaicius in skaiciai:\n",
    "    print(f\"turiu {suma}\", end=\", \")\n",
    "    suma += skaicius\n",
    "    print(f\"pridedu {skaicius}, gaunasi {suma}\")\n",
    "print(suma)"
   ]
  },
  {
   "cell_type": "code",
   "execution_count": 50,
   "metadata": {},
   "outputs": [
    {
     "name": "stdout",
     "output_type": "stream",
     "text": [
      "nekeliamieji metai\n"
     ]
    }
   ],
   "source": [
    "metai = int(input(\"iveskite metus: \"))\n",
    "if (metai % 400 == 0) or (metai % 100 != 0) and (metai % 4 == 0):\n",
    "    print(\"keliamieji metai\")\n",
    "else:\n",
    "    print(\"nekeliamieji metai\")"
   ]
  },
  {
   "cell_type": "code",
   "execution_count": 51,
   "metadata": {},
   "outputs": [
    {
     "name": "stdout",
     "output_type": "stream",
     "text": [
      "2000\n",
      "2004\n",
      "2008\n",
      "2012\n",
      "2016\n",
      "2020\n",
      "2024\n",
      "2028\n",
      "2032\n",
      "2036\n",
      "2040\n",
      "2044\n",
      "2048\n",
      "2052\n",
      "2056\n",
      "2060\n",
      "2064\n",
      "2068\n",
      "2072\n",
      "2076\n",
      "2080\n",
      "2084\n",
      "2088\n",
      "2092\n",
      "2096\n"
     ]
    }
   ],
   "source": [
    "for metai in range(2000, 2100):\n",
    "    if metai % 4 == 0:\n",
    "        print(metai)"
   ]
  },
  {
   "cell_type": "code",
   "execution_count": 52,
   "metadata": {},
   "outputs": [
    {
     "name": "stdout",
     "output_type": "stream",
     "text": [
      "2000\n",
      "2004\n",
      "2008\n",
      "2012\n",
      "2016\n",
      "2020\n",
      "2024\n",
      "2028\n",
      "2032\n",
      "2036\n",
      "2040\n",
      "2044\n",
      "2048\n",
      "2052\n",
      "2056\n",
      "2060\n",
      "2064\n",
      "2068\n",
      "2072\n",
      "2076\n",
      "2080\n",
      "2084\n",
      "2088\n",
      "2092\n",
      "2096\n"
     ]
    }
   ],
   "source": [
    "for metai in range(2000, 2100):\n",
    "    if metai % 400 == 0:\n",
    "        print(metai)\n",
    "    elif metai % 100 == 0:\n",
    "        continue\n",
    "    elif metai % 4 == 0:\n",
    "        print(metai)\n",
    "    else:\n",
    "        continue"
   ]
  },
  {
   "cell_type": "code",
   "execution_count": 53,
   "metadata": {},
   "outputs": [
    {
     "name": "stdout",
     "output_type": "stream",
     "text": [
      "10\n",
      "9\n",
      "8\n",
      "7\n",
      "6\n",
      "5\n",
      "4\n",
      "3\n",
      "2\n",
      "1\n",
      "0\n",
      "-1\n"
     ]
    }
   ],
   "source": [
    "num = 11\n",
    "while num <= 11:\n",
    "    num = num - 1\n",
    "    if num == -2:\n",
    "        break\n",
    "    print(num)"
   ]
  },
  {
   "cell_type": "code",
   "execution_count": 54,
   "metadata": {},
   "outputs": [
    {
     "name": "stdout",
     "output_type": "stream",
     "text": [
      "4\n",
      "3\n",
      "2\n",
      "1\n",
      "0\n",
      "-1\n",
      "-2\n",
      "-3\n",
      "-4\n",
      "ciklas sustabdytas, pasiektas -5\n"
     ]
    }
   ],
   "source": [
    "numeris = 5\n",
    "while numeris >= -10:\n",
    "    numeris -= 1\n",
    "    if numeris == -5:\n",
    "        print(\"ciklas sustabdytas, pasiektas -5\")\n",
    "        break\n",
    "    elif num == 0:\n",
    "        print(\"Ciklas pasieke 0 tesiama\")\n",
    "        continue\n",
    "    print(numeris)\n"
   ]
  },
  {
   "cell_type": "code",
   "execution_count": 55,
   "metadata": {},
   "outputs": [
    {
     "name": "stdout",
     "output_type": "stream",
     "text": [
      "25555\n"
     ]
    }
   ],
   "source": [
    "skaiciukas = 0\n",
    "while True:\n",
    "    nr = int(input(\"iveskite skaiciu\"))\n",
    "    if nr < 0:\n",
    "        break\n",
    "    skaiciukas += nr\n",
    "print (skaiciukas)"
   ]
  },
  {
   "attachments": {},
   "cell_type": "markdown",
   "metadata": {},
   "source": [
    "tuples"
   ]
  },
  {
   "cell_type": "code",
   "execution_count": 59,
   "metadata": {},
   "outputs": [
    {
     "name": "stdout",
     "output_type": "stream",
     "text": [
      "('Linkin park', 'Metallica', 'Jay-z', 'Rondo', 'Delfinai')\n",
      "('Linkin park', 'Metallica', 'Jay-z', 'Rondo', 'Delfinai', 'stano', '50 cent', 'Eminem', 'Aqua', 'Delfinai')\n",
      "Linkin park\n",
      "Jay-z\n",
      "Delfinai\n",
      "('Linkin park', 'Jay-z', 'Delfinai')\n",
      "2 kartus pasikartoja Delfinai\n",
      "4\n",
      "True\n",
      "False\n",
      "Linkin park\n",
      "Metallica\n",
      "Jay-z\n",
      "Rondo\n",
      "Delfinai\n",
      "stano\n",
      "50 cent\n",
      "Eminem\n",
      "Aqua\n",
      "Delfinai\n"
     ]
    }
   ],
   "source": [
    "grupes_tuples = (\"Linkin park\", \"Metallica\", \"Jay-z\", \"Rondo\", \"Delfinai\")\n",
    "print(grupes_tuples)\n",
    "grupes2_tuples = (\"stano\", \"50 cent\", \"Eminem\", \"Aqua\", \"Delfinai\")\n",
    "sujungta_tuples = grupes_tuples + grupes2_tuples\n",
    "print(sujungta_tuples)\n",
    "print(grupes_tuples[0])\n",
    "print(grupes_tuples[2])\n",
    "print(grupes_tuples[-1])\n",
    "print(grupes_tuples[::2])\n",
    "print(sujungta_tuples.count(\"Delfinai\"), \"kartus pasikartoja Delfinai\")\n",
    "print(sujungta_tuples.index(\"Delfinai\"))\n",
    "print(\"Delfinai\" in sujungta_tuples)\n",
    "print(\"delfinai\" in sujungta_tuples)\n",
    "for grupes in sujungta_tuples:\n",
    "    print(grupes)"
   ]
  },
  {
   "attachments": {},
   "cell_type": "markdown",
   "metadata": {},
   "source": [
    "##aibes##"
   ]
  },
  {
   "cell_type": "code",
   "execution_count": 64,
   "metadata": {},
   "outputs": [
    {
     "name": "stdout",
     "output_type": "stream",
     "text": [
      "{1, 2, 3, 4, 5, 6, 9}\n"
     ]
    }
   ],
   "source": [
    "skaiciu_aibe = { 1, 2, 3, 4, 5, 6}\n",
    "skaiciu_aibe.add(9)\n",
    "print(skaiciu_aibe)"
   ]
  },
  {
   "cell_type": "code",
   "execution_count": 65,
   "metadata": {},
   "outputs": [
    {
     "name": "stdout",
     "output_type": "stream",
     "text": [
      "{4, 5, 6, 7, 9}\n"
     ]
    }
   ],
   "source": [
    "skaiciu_aibe2 = { 9, 8, 7, 6, 5, 4}\n",
    "skaiciu_aibe2.remove (8)\n",
    "print(skaiciu_aibe2)"
   ]
  },
  {
   "cell_type": "code",
   "execution_count": 66,
   "metadata": {},
   "outputs": [
    {
     "name": "stdout",
     "output_type": "stream",
     "text": [
      "{9, 4, 5, 6}\n"
     ]
    }
   ],
   "source": [
    "aibe3 = skaiciu_aibe2.intersection(skaiciu_aibe)\n",
    "print(aibe3)"
   ]
  },
  {
   "cell_type": "code",
   "execution_count": 67,
   "metadata": {},
   "outputs": [
    {
     "name": "stdout",
     "output_type": "stream",
     "text": [
      "{1, 2, 3}\n"
     ]
    }
   ],
   "source": [
    "aibe4 = skaiciu_aibe.difference(skaiciu_aibe2)\n",
    "print(aibe4)"
   ]
  },
  {
   "cell_type": "code",
   "execution_count": 68,
   "metadata": {},
   "outputs": [
    {
     "name": "stdout",
     "output_type": "stream",
     "text": [
      "{7}\n"
     ]
    }
   ],
   "source": [
    "aibe5 = skaiciu_aibe2.difference(skaiciu_aibe)\n",
    "print(aibe5)"
   ]
  },
  {
   "cell_type": "code",
   "execution_count": 71,
   "metadata": {},
   "outputs": [
    {
     "name": "stdout",
     "output_type": "stream",
     "text": [
      "aibe pakelta kvadratu:  {49}\n",
      "<class 'set'>\n"
     ]
    }
   ],
   "source": [
    "aibe_kvadratu = {x**2 for x in aibe5}\n",
    "print(\"aibe pakelta kvadratu: \", aibe_kvadratu)\n",
    "print(type(aibe_kvadratu))"
   ]
  }
 ],
 "metadata": {
  "kernelspec": {
   "display_name": "venv",
   "language": "python",
   "name": "python3"
  },
  "language_info": {
   "codemirror_mode": {
    "name": "ipython",
    "version": 3
   },
   "file_extension": ".py",
   "mimetype": "text/x-python",
   "name": "python",
   "nbconvert_exporter": "python",
   "pygments_lexer": "ipython3",
   "version": "3.11.3"
  },
  "orig_nbformat": 4
 },
 "nbformat": 4,
 "nbformat_minor": 2
}
