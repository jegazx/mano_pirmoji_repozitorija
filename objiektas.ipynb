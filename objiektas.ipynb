{
 "cells": [
  {
   "cell_type": "code",
   "execution_count": 13,
   "metadata": {},
   "outputs": [
    {
     "name": "stdout",
     "output_type": "stream",
     "text": [
      "[6, 7] nera tarp 5 ir 10\n"
     ]
    }
   ],
   "source": [
    "skaicius = [int(input(\"skaicius 1: \")), int(input(\"skaicius 2: \"))]\n",
    "if skaicius[1] <= 5 and skaicius[2] <= 10:\n",
    "    print(f\"{skaicius} yra tarp 5 ir 10\")\n",
    "else:\n",
    "    print(f\"{skaicius} nera tarp 5 ir 10\")"
   ]
  }
 ],
 "metadata": {
  "kernelspec": {
   "display_name": "venv",
   "language": "python",
   "name": "python3"
  },
  "language_info": {
   "codemirror_mode": {
    "name": "ipython",
    "version": 3
   },
   "file_extension": ".py",
   "mimetype": "text/x-python",
   "name": "python",
   "nbconvert_exporter": "python",
   "pygments_lexer": "ipython3",
   "version": "3.11.3"
  },
  "orig_nbformat": 4
 },
 "nbformat": 4,
 "nbformat_minor": 2
}
