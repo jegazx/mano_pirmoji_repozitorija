{
 "cells": [
  {
   "cell_type": "code",
   "execution_count": 48,
   "metadata": {},
   "outputs": [
    {
     "data": {
      "text/plain": [
       "[5, 4, 3, 2, 1]"
      ]
     },
     "execution_count": 48,
     "metadata": {},
     "output_type": "execute_result"
    }
   ],
   "source": [
    "sarasas = [1, 2, 3, 4, 5,]\n",
    "def skaiciai(sarasas):\n",
    "    return sarasas[::-1]\n",
    "skaiciai(sarasas)"
   ]
  },
  {
   "cell_type": "code",
   "execution_count": 49,
   "metadata": {},
   "outputs": [
    {
     "name": "stdout",
     "output_type": "stream",
     "text": [
      "10.825317547305483\n"
     ]
    }
   ],
   "source": [
    "def trikampio_plotas(a, b, c):\n",
    "    s = (a + b + c) / 2  # pusė perimetro\n",
    "    plotas = (s * (s - a) * (s - b) * (s - c)) ** 0.5\n",
    "    return plotas\n",
    "\n",
    "a = 5\n",
    "b = 5\n",
    "c = 5\n",
    "trikampio_plotas = trikampio_plotas(a, b, c)\n",
    "print(trikampio_plotas)  # išvestų: 6.0"
   ]
  },
  {
   "cell_type": "code",
   "execution_count": 50,
   "metadata": {},
   "outputs": [
    {
     "name": "stdout",
     "output_type": "stream",
     "text": [
      "['Labas']\n"
     ]
    }
   ],
   "source": [
    "def rinkti_zodzius_pagal_ilgi(sakinys, ilgis):\n",
    "    zodziai = sakinys.split()\n",
    "    ilgio_zodziai = []\n",
    "    for zodis in zodziai:\n",
    "        if len(zodis) == ilgis:\n",
    "            ilgio_zodziai.append(zodis)\n",
    "    return ilgio_zodziai\n",
    "\n",
    "sakinys = \"Labas vakaras, kaip sekasi?\"\n",
    "ilgis =5\n",
    "zodziai = rinkti_zodzius_pagal_ilgi(sakinys, ilgis)\n",
    "print(zodziai)"
   ]
  },
  {
   "cell_type": "code",
   "execution_count": 51,
   "metadata": {},
   "outputs": [
    {
     "name": "stdout",
     "output_type": "stream",
     "text": [
      "5\n"
     ]
    }
   ],
   "source": [
    "def didziausias_skaicius(sarasas):\n",
    "    didziausias = sarasas[0]\n",
    "    for skaicius in sarasas:\n",
    "        if skaicius > didziausias:\n",
    "            didziausias = skaicius\n",
    "    return didziausias\n",
    "\n",
    "didziausias = didziausias_skaicius(sarasas)\n",
    "print(didziausias)  # išvestų: 9\n"
   ]
  },
  {
   "cell_type": "code",
   "execution_count": 79,
   "metadata": {},
   "outputs": [
    {
     "name": "stdout",
     "output_type": "stream",
     "text": [
      "['automobilis', 'arklys', 'avokadas']\n"
     ]
    }
   ],
   "source": [
    "def rinkti_zodzius_pagal_raide(zodziai, raide):\n",
    "    raides_zodziai = []\n",
    "    for zodis in zodziai:\n",
    "        if zodis[0] == raide:\n",
    "            raides_zodziai.append(zodis)\n",
    "    return raides_zodziai\n",
    "\n",
    "zodziai = [\"automobilis\", \"arklys\", \"avokadas\", \"bananas\", \"briedis\"]\n",
    "raide = \"a\"\n",
    "a_zodziai = rinkti_zodzius_pagal_raide(zodziai, raide)\n",
    "print(a_zodziai)  # išvestų: ['automobilis', 'avokadas']"
   ]
  },
  {
   "cell_type": "code",
   "execution_count": 55,
   "metadata": {},
   "outputs": [
    {
     "name": "stdout",
     "output_type": "stream",
     "text": [
      "['Vakare', 'kaip', 'sekasi']\n"
     ]
    }
   ],
   "source": [
    "def rinkti_lyginio_ilgio_zodzius(tekstas):\n",
    "    zodziai = tekstas.split()\n",
    "    lyginio_ilgio_zodziai = []\n",
    "    for zodis in zodziai:\n",
    "        if len(zodis) % 2 == 0:\n",
    "            lyginio_ilgio_zodziai.append(zodis)\n",
    "    return lyginio_ilgio_zodziai\n",
    "\n",
    "tekstas = \"Labas Vakare , kaip sekasi ?\"\n",
    "lyginio_ilgio_zodziai = rinkti_lyginio_ilgio_zodzius(tekstas)\n",
    "print(lyginio_ilgio_zodziai)  # išvestų: ['Vakare,', 'kaip']"
   ]
  },
  {
   "attachments": {},
   "cell_type": "markdown",
   "metadata": {},
   "source": [
    "##asd##"
   ]
  },
  {
   "cell_type": "code",
   "execution_count": 63,
   "metadata": {},
   "outputs": [
    {
     "name": "stdout",
     "output_type": "stream",
     "text": [
      "78.5\n"
     ]
    }
   ],
   "source": [
    "def apskritimo_plotas(spindulys, pi=3.14):\n",
    "    plotas = pi * (spindulys ** 2)\n",
    "    return plotas\n",
    "print(apskritimo_plotas(5))\n"
   ]
  },
  {
   "cell_type": "code",
   "execution_count": 70,
   "metadata": {},
   "outputs": [
    {
     "name": "stdout",
     "output_type": "stream",
     "text": [
      "{'atstumas': 2000, 'sanaudos': 140.0, 'islaidos': 168.0}\n"
     ]
    }
   ],
   "source": [
    "def keliones_informacija(keliones_trukme, greitis, vartojimas=7, kuro_kaina=1.2):\n",
    "    atstumas = keliones_trukme * greitis\n",
    "    sanaudos = atstumas * vartojimas / 100\n",
    "    islaidos = sanaudos * kuro_kaina\n",
    "    \n",
    "    return {\n",
    "        \"atstumas\" : atstumas,\n",
    "        \"sanaudos\" : sanaudos,\n",
    "        \"islaidos\" : islaidos,\n",
    "    }\n",
    "print(keliones_informacija(20, 100))\n"
   ]
  },
  {
   "cell_type": "code",
   "execution_count": 72,
   "metadata": {},
   "outputs": [
    {
     "name": "stdout",
     "output_type": "stream",
     "text": [
      "1\n",
      "-10\n"
     ]
    }
   ],
   "source": [
    "def didziausias(*args):\n",
    "    if len(args) == 0:\n",
    "        return None\n",
    "    didziausia_reiksme = args[0]\n",
    "    for arg in args:\n",
    "        if arg < didziausia_reiksme:\n",
    "            didziausia_reiksme = arg\n",
    "    return didziausia_reiksme\n",
    "print(didziausias(1, 2, 3, 4, 5 ))\n",
    "print(didziausias(-5, 5, -10, 1, 0))"
   ]
  },
  {
   "cell_type": "code",
   "execution_count": 75,
   "metadata": {},
   "outputs": [
    {
     "name": "stdout",
     "output_type": "stream",
     "text": [
      "{'vardas': 'Jonas', 'amzius': 30, 'miestas': 'Vilnius', 'metai': 2023}\n",
      "{}\n"
     ]
    }
   ],
   "source": [
    "def raktai(**kwargs):\n",
    "    nurodyti_raktai = {}\n",
    "    for key in kwargs:\n",
    "        if key in [\"vardas\", \"amzius\", \"miestas\", \"metai\"]:\n",
    "            nurodyti_raktai[key] = kwargs[key]\n",
    "    return nurodyti_raktai\n",
    "\n",
    "print(raktai(vardas=\"Jonas\", amzius=30, miestas=\"Vilnius\", metai=2023))  # {'vardas': 'Jonas', 'amzius': 30, 'miestas': 'Vilnius'}\n",
    "print(raktai(pavadinimas=\"Python\"))  # {}"
   ]
  },
  {
   "cell_type": "code",
   "execution_count": 85,
   "metadata": {},
   "outputs": [
    {
     "ename": "NameError",
     "evalue": "name 'visi_elementai' is not defined",
     "output_type": "error",
     "traceback": [
      "\u001b[1;31m---------------------------------------------------------------------------\u001b[0m",
      "\u001b[1;31mNameError\u001b[0m                                 Traceback (most recent call last)",
      "Cell \u001b[1;32mIn[85], line 5\u001b[0m\n\u001b[0;32m      3\u001b[0m     visi_elementai \u001b[39m+\u001b[39m\u001b[39m=\u001b[39m \u001b[39mlist\u001b[39m(kwargs\u001b[39m.\u001b[39mvalues())\n\u001b[0;32m      4\u001b[0m     \u001b[39mreturn\u001b[39;00m visi_elementai\n\u001b[1;32m----> 5\u001b[0m visi_elementai(pienas\u001b[39m=\u001b[39m\u001b[39m2\u001b[39m, batonas \u001b[39m=\u001b[39m \u001b[39m5\u001b[39m)\n",
      "\u001b[1;31mNameError\u001b[0m: name 'visi_elementai' is not defined"
     ]
    }
   ],
   "source": [
    "def sujungtas_sarasas(*args, **kwargs):\n",
    "    visi_elementai = list(args)\n",
    "    visi_elementai += list(kwargs.values())\n",
    "    return visi_elementai\n",
    "visi_elementai(pienas=2, batonas=5)\n",
    "\n"
   ]
  },
  {
   "cell_type": "code",
   "execution_count": 87,
   "metadata": {},
   "outputs": [
    {
     "ename": "TypeError",
     "evalue": "list expected at most 1 argument, got 2",
     "output_type": "error",
     "traceback": [
      "\u001b[1;31m---------------------------------------------------------------------------\u001b[0m",
      "\u001b[1;31mTypeError\u001b[0m                                 Traceback (most recent call last)",
      "Cell \u001b[1;32mIn[87], line 2\u001b[0m\n\u001b[0;32m      1\u001b[0m skaiciai \u001b[39m=\u001b[39m [\u001b[39m5\u001b[39m, \u001b[39m25\u001b[39m, \u001b[39m1\u001b[39m, \u001b[39m27\u001b[39m, \u001b[39m9\u001b[39m, \u001b[39m34\u001b[39m, \u001b[39m87\u001b[39m, \u001b[39m97\u001b[39m, \u001b[39m6\u001b[39m, \u001b[39m-\u001b[39m\u001b[39m10\u001b[39m]\n\u001b[1;32m----> 2\u001b[0m didesni_skaiciai \u001b[39m=\u001b[39m \u001b[39mlist\u001b[39;49m(skaiciai,\u001b[39mlambda\u001b[39;49;00m x: x \u001b[39m<\u001b[39;49m \u001b[39m10\u001b[39;49m)\n\u001b[0;32m      3\u001b[0m \u001b[39mprint\u001b[39m(didesni_skaiciai)\n",
      "\u001b[1;31mTypeError\u001b[0m: list expected at most 1 argument, got 2"
     ]
    }
   ],
   "source": [
    "skaiciai = [5, 25, 1, 27, 9, 34, 87, 97, 6, -10]\n",
    "didesni_skaiciai = list(filter(skaiciai,lambda x: x < 10))\n",
    "print(didesni_skaiciai)"
   ]
  }
 ],
 "metadata": {
  "kernelspec": {
   "display_name": "venv",
   "language": "python",
   "name": "python3"
  },
  "language_info": {
   "codemirror_mode": {
    "name": "ipython",
    "version": 3
   },
   "file_extension": ".py",
   "mimetype": "text/x-python",
   "name": "python",
   "nbconvert_exporter": "python",
   "pygments_lexer": "ipython3",
   "version": "3.11.3"
  },
  "orig_nbformat": 4
 },
 "nbformat": 4,
 "nbformat_minor": 2
}
